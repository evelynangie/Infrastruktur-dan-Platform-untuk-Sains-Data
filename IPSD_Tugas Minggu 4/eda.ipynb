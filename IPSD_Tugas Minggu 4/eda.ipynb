{
 "cells": [
  {
   "cell_type": "markdown",
   "id": "b5e0d94d",
   "metadata": {},
   "source": [
    "**IPSD_Kelompok 3**\n",
    "\n",
    "1.   Zahira Kayla Wardhani (103102400022)\n",
    "2.   Evelyna Angie (103102400040)\n",
    "3.   Novena Aurelia Luisma (103102400050)\n",
    "4.   Faza Nur Aulia Suraya (103102400066)\n",
    "5.   Widya Situmorang (103102400081)"
   ]
  },
  {
   "cell_type": "code",
   "execution_count": 1,
   "id": "4447cf42",
   "metadata": {},
   "outputs": [],
   "source": [
    "import pandas as pd\n",
    "import numpy as np\n",
    "import matplotlib.pyplot as plt\n",
    "import seaborn as sns"
   ]
  },
  {
   "cell_type": "markdown",
   "id": "a5e91837",
   "metadata": {},
   "source": [
    "**1. Load Data**"
   ]
  },
  {
   "cell_type": "code",
   "execution_count": 2,
   "id": "e3695d5a",
   "metadata": {},
   "outputs": [
    {
     "data": {
      "text/html": [
       "<div>\n",
       "<style scoped>\n",
       "    .dataframe tbody tr th:only-of-type {\n",
       "        vertical-align: middle;\n",
       "    }\n",
       "\n",
       "    .dataframe tbody tr th {\n",
       "        vertical-align: top;\n",
       "    }\n",
       "\n",
       "    .dataframe thead th {\n",
       "        text-align: right;\n",
       "    }\n",
       "</style>\n",
       "<table border=\"1\" class=\"dataframe\">\n",
       "  <thead>\n",
       "    <tr style=\"text-align: right;\">\n",
       "      <th></th>\n",
       "      <th>battery</th>\n",
       "      <th>camera</th>\n",
       "      <th>display</th>\n",
       "      <th>memory</th>\n",
       "      <th>name</th>\n",
       "      <th>price</th>\n",
       "      <th>processor</th>\n",
       "      <th>rating</th>\n",
       "      <th>reviews</th>\n",
       "      <th>warranty</th>\n",
       "    </tr>\n",
       "  </thead>\n",
       "  <tbody>\n",
       "    <tr>\n",
       "      <th>0</th>\n",
       "      <td>5000 mAh Battery</td>\n",
       "      <td>12MP + 2MP | 8MP Front Camera</td>\n",
       "      <td>15.8 cm (6.22 inch) HD+ Display</td>\n",
       "      <td>4 GB RAM | 64 GB ROM | Expandable Upto 512 GB</td>\n",
       "      <td>Redmi 8 (Ruby Red, 64 GB)</td>\n",
       "      <td>9999</td>\n",
       "      <td>Qualcomm Snapdragon 439 Processor</td>\n",
       "      <td>4.4</td>\n",
       "      <td>55,078 Reviews</td>\n",
       "      <td>Brand Warranty of 1 Year Available for Mobile ...</td>\n",
       "    </tr>\n",
       "    <tr>\n",
       "      <th>1</th>\n",
       "      <td>5000 mAh Battery</td>\n",
       "      <td>12MP + 8MP + 2MP + 2MP | 8MP Front Camera</td>\n",
       "      <td>16.56 cm (6.52 inch) HD+ Display</td>\n",
       "      <td>4 GB RAM | 64 GB ROM</td>\n",
       "      <td>Realme 5i (Aqua Blue, 64 GB)</td>\n",
       "      <td>10999</td>\n",
       "      <td>Qualcomm Snapdragon 665 2 GHz Processor</td>\n",
       "      <td>4.5</td>\n",
       "      <td>20,062 Reviews</td>\n",
       "      <td>Sunrise Design</td>\n",
       "    </tr>\n",
       "    <tr>\n",
       "      <th>2</th>\n",
       "      <td>5000 mAh Battery</td>\n",
       "      <td>12MP + 8MP + 2MP + 2MP | 8MP Front Camera</td>\n",
       "      <td>16.56 cm (6.52 inch) HD+ Display</td>\n",
       "      <td>4 GB RAM | 128 GB ROM</td>\n",
       "      <td>Realme 5i (Aqua Blue, 128 GB)</td>\n",
       "      <td>11999</td>\n",
       "      <td>Qualcomm Snapdragon 665 (2 GHz) Processor</td>\n",
       "      <td>4.5</td>\n",
       "      <td>20,062 Reviews</td>\n",
       "      <td>Sunrise Design</td>\n",
       "    </tr>\n",
       "    <tr>\n",
       "      <th>3</th>\n",
       "      <td>5000 mAh Battery</td>\n",
       "      <td>12MP + 8MP + 2MP + 2MP | 8MP Front Camera</td>\n",
       "      <td>16.56 cm (6.52 inch) HD+ Display</td>\n",
       "      <td>4 GB RAM | 128 GB ROM</td>\n",
       "      <td>Realme 5i (Forest Green, 128 GB)</td>\n",
       "      <td>11999</td>\n",
       "      <td>Qualcomm Snapdragon 665 (2 GHz) Processor</td>\n",
       "      <td>4.5</td>\n",
       "      <td>20,062 Reviews</td>\n",
       "      <td>Sunrise Design</td>\n",
       "    </tr>\n",
       "    <tr>\n",
       "      <th>4</th>\n",
       "      <td>4000 mAh Battery</td>\n",
       "      <td>13MP + 2MP | 5MP Front Camera</td>\n",
       "      <td>15.49 cm (6.1 inch) HD+ Display</td>\n",
       "      <td>3 GB RAM | 32 GB ROM | Expandable Upto 256 GB</td>\n",
       "      <td>Realme C2 (Diamond Blue, 32 GB)</td>\n",
       "      <td>7499</td>\n",
       "      <td>MediaTek P22 Octa Core 2.0 GHz Processor</td>\n",
       "      <td>4.4</td>\n",
       "      <td>10,091 Reviews</td>\n",
       "      <td>Dual Nano SIM slots and Memory Card Slot</td>\n",
       "    </tr>\n",
       "  </tbody>\n",
       "</table>\n",
       "</div>"
      ],
      "text/plain": [
       "            battery                                     camera  \\\n",
       "0  5000 mAh Battery              12MP + 2MP | 8MP Front Camera   \n",
       "1  5000 mAh Battery  12MP + 8MP + 2MP + 2MP | 8MP Front Camera   \n",
       "2  5000 mAh Battery  12MP + 8MP + 2MP + 2MP | 8MP Front Camera   \n",
       "3  5000 mAh Battery  12MP + 8MP + 2MP + 2MP | 8MP Front Camera   \n",
       "4  4000 mAh Battery              13MP + 2MP | 5MP Front Camera   \n",
       "\n",
       "                            display  \\\n",
       "0   15.8 cm (6.22 inch) HD+ Display   \n",
       "1  16.56 cm (6.52 inch) HD+ Display   \n",
       "2  16.56 cm (6.52 inch) HD+ Display   \n",
       "3  16.56 cm (6.52 inch) HD+ Display   \n",
       "4   15.49 cm (6.1 inch) HD+ Display   \n",
       "\n",
       "                                          memory  \\\n",
       "0  4 GB RAM | 64 GB ROM | Expandable Upto 512 GB   \n",
       "1                           4 GB RAM | 64 GB ROM   \n",
       "2                          4 GB RAM | 128 GB ROM   \n",
       "3                          4 GB RAM | 128 GB ROM   \n",
       "4  3 GB RAM | 32 GB ROM | Expandable Upto 256 GB   \n",
       "\n",
       "                               name  price  \\\n",
       "0         Redmi 8 (Ruby Red, 64 GB)   9999   \n",
       "1      Realme 5i (Aqua Blue, 64 GB)  10999   \n",
       "2     Realme 5i (Aqua Blue, 128 GB)  11999   \n",
       "3  Realme 5i (Forest Green, 128 GB)  11999   \n",
       "4   Realme C2 (Diamond Blue, 32 GB)   7499   \n",
       "\n",
       "                                   processor  rating         reviews  \\\n",
       "0          Qualcomm Snapdragon 439 Processor     4.4  55,078 Reviews   \n",
       "1    Qualcomm Snapdragon 665 2 GHz Processor     4.5  20,062 Reviews   \n",
       "2  Qualcomm Snapdragon 665 (2 GHz) Processor     4.5  20,062 Reviews   \n",
       "3  Qualcomm Snapdragon 665 (2 GHz) Processor     4.5  20,062 Reviews   \n",
       "4   MediaTek P22 Octa Core 2.0 GHz Processor     4.4  10,091 Reviews   \n",
       "\n",
       "                                            warranty  \n",
       "0  Brand Warranty of 1 Year Available for Mobile ...  \n",
       "1                                     Sunrise Design  \n",
       "2                                     Sunrise Design  \n",
       "3                                     Sunrise Design  \n",
       "4           Dual Nano SIM slots and Memory Card Slot  "
      ]
     },
     "execution_count": 2,
     "metadata": {},
     "output_type": "execute_result"
    }
   ],
   "source": [
    "# Load dataset\n",
    "df = pd.read_csv('mobiles1.csv')\n",
    "\n",
    "# Tampilkan 5 baris pertama\n",
    "df.head()"
   ]
  },
  {
   "cell_type": "markdown",
   "id": "ee4491f1",
   "metadata": {},
   "source": [
    "**2. Basic Information about the Dataset**"
   ]
  },
  {
   "cell_type": "code",
   "execution_count": 3,
   "id": "7ab2c3f8",
   "metadata": {},
   "outputs": [
    {
     "name": "stdout",
     "output_type": "stream",
     "text": [
      "\n",
      "Informasi DataFrame:\n",
      "<class 'pandas.core.frame.DataFrame'>\n",
      "RangeIndex: 984 entries, 0 to 983\n",
      "Data columns (total 10 columns):\n",
      " #   Column     Non-Null Count  Dtype  \n",
      "---  ------     --------------  -----  \n",
      " 0   battery    984 non-null    object \n",
      " 1   camera     984 non-null    object \n",
      " 2   display    984 non-null    object \n",
      " 3   memory     984 non-null    object \n",
      " 4   name       984 non-null    object \n",
      " 5   price      984 non-null    int64  \n",
      " 6   processor  983 non-null    object \n",
      " 7   rating     971 non-null    float64\n",
      " 8   reviews    971 non-null    object \n",
      " 9   warranty   836 non-null    object \n",
      "dtypes: float64(1), int64(1), object(8)\n",
      "memory usage: 77.0+ KB\n",
      "\n",
      "Statistik Deskriptif:\n"
     ]
    },
    {
     "data": {
      "text/html": [
       "<div>\n",
       "<style scoped>\n",
       "    .dataframe tbody tr th:only-of-type {\n",
       "        vertical-align: middle;\n",
       "    }\n",
       "\n",
       "    .dataframe tbody tr th {\n",
       "        vertical-align: top;\n",
       "    }\n",
       "\n",
       "    .dataframe thead th {\n",
       "        text-align: right;\n",
       "    }\n",
       "</style>\n",
       "<table border=\"1\" class=\"dataframe\">\n",
       "  <thead>\n",
       "    <tr style=\"text-align: right;\">\n",
       "      <th></th>\n",
       "      <th>battery</th>\n",
       "      <th>camera</th>\n",
       "      <th>display</th>\n",
       "      <th>memory</th>\n",
       "      <th>name</th>\n",
       "      <th>price</th>\n",
       "      <th>processor</th>\n",
       "      <th>rating</th>\n",
       "      <th>reviews</th>\n",
       "      <th>warranty</th>\n",
       "    </tr>\n",
       "  </thead>\n",
       "  <tbody>\n",
       "    <tr>\n",
       "      <th>count</th>\n",
       "      <td>984</td>\n",
       "      <td>984</td>\n",
       "      <td>984</td>\n",
       "      <td>984</td>\n",
       "      <td>984</td>\n",
       "      <td>984.000000</td>\n",
       "      <td>983</td>\n",
       "      <td>971.000000</td>\n",
       "      <td>971</td>\n",
       "      <td>836</td>\n",
       "    </tr>\n",
       "    <tr>\n",
       "      <th>unique</th>\n",
       "      <td>177</td>\n",
       "      <td>185</td>\n",
       "      <td>125</td>\n",
       "      <td>89</td>\n",
       "      <td>878</td>\n",
       "      <td>NaN</td>\n",
       "      <td>287</td>\n",
       "      <td>NaN</td>\n",
       "      <td>386</td>\n",
       "      <td>92</td>\n",
       "    </tr>\n",
       "    <tr>\n",
       "      <th>top</th>\n",
       "      <td>4000 mAh Battery</td>\n",
       "      <td>13MP Rear Camera | 5MP Front Camera</td>\n",
       "      <td>16.0 cm (6.3 inch) Full HD+ Display</td>\n",
       "      <td>4 GB RAM | 64 GB ROM | Expandable Upto 256 GB</td>\n",
       "      <td>Realme C2 (Diamond Blue, 32 GB)</td>\n",
       "      <td>NaN</td>\n",
       "      <td>Qualcomm Snapdragon 730G Processor</td>\n",
       "      <td>NaN</td>\n",
       "      <td>3 Reviews</td>\n",
       "      <td>Brand Warranty of 1 Year Available for Mobile ...</td>\n",
       "    </tr>\n",
       "    <tr>\n",
       "      <th>freq</th>\n",
       "      <td>113</td>\n",
       "      <td>53</td>\n",
       "      <td>56</td>\n",
       "      <td>88</td>\n",
       "      <td>4</td>\n",
       "      <td>NaN</td>\n",
       "      <td>21</td>\n",
       "      <td>NaN</td>\n",
       "      <td>10</td>\n",
       "      <td>323</td>\n",
       "    </tr>\n",
       "    <tr>\n",
       "      <th>mean</th>\n",
       "      <td>NaN</td>\n",
       "      <td>NaN</td>\n",
       "      <td>NaN</td>\n",
       "      <td>NaN</td>\n",
       "      <td>NaN</td>\n",
       "      <td>15429.848577</td>\n",
       "      <td>NaN</td>\n",
       "      <td>4.241195</td>\n",
       "      <td>NaN</td>\n",
       "      <td>NaN</td>\n",
       "    </tr>\n",
       "    <tr>\n",
       "      <th>std</th>\n",
       "      <td>NaN</td>\n",
       "      <td>NaN</td>\n",
       "      <td>NaN</td>\n",
       "      <td>NaN</td>\n",
       "      <td>NaN</td>\n",
       "      <td>12891.355967</td>\n",
       "      <td>NaN</td>\n",
       "      <td>0.300296</td>\n",
       "      <td>NaN</td>\n",
       "      <td>NaN</td>\n",
       "    </tr>\n",
       "    <tr>\n",
       "      <th>min</th>\n",
       "      <td>NaN</td>\n",
       "      <td>NaN</td>\n",
       "      <td>NaN</td>\n",
       "      <td>NaN</td>\n",
       "      <td>NaN</td>\n",
       "      <td>887.000000</td>\n",
       "      <td>NaN</td>\n",
       "      <td>2.700000</td>\n",
       "      <td>NaN</td>\n",
       "      <td>NaN</td>\n",
       "    </tr>\n",
       "    <tr>\n",
       "      <th>25%</th>\n",
       "      <td>NaN</td>\n",
       "      <td>NaN</td>\n",
       "      <td>NaN</td>\n",
       "      <td>NaN</td>\n",
       "      <td>NaN</td>\n",
       "      <td>7499.000000</td>\n",
       "      <td>NaN</td>\n",
       "      <td>4.100000</td>\n",
       "      <td>NaN</td>\n",
       "      <td>NaN</td>\n",
       "    </tr>\n",
       "    <tr>\n",
       "      <th>50%</th>\n",
       "      <td>NaN</td>\n",
       "      <td>NaN</td>\n",
       "      <td>NaN</td>\n",
       "      <td>NaN</td>\n",
       "      <td>NaN</td>\n",
       "      <td>11649.000000</td>\n",
       "      <td>NaN</td>\n",
       "      <td>4.300000</td>\n",
       "      <td>NaN</td>\n",
       "      <td>NaN</td>\n",
       "    </tr>\n",
       "    <tr>\n",
       "      <th>75%</th>\n",
       "      <td>NaN</td>\n",
       "      <td>NaN</td>\n",
       "      <td>NaN</td>\n",
       "      <td>NaN</td>\n",
       "      <td>NaN</td>\n",
       "      <td>17999.250000</td>\n",
       "      <td>NaN</td>\n",
       "      <td>4.400000</td>\n",
       "      <td>NaN</td>\n",
       "      <td>NaN</td>\n",
       "    </tr>\n",
       "    <tr>\n",
       "      <th>max</th>\n",
       "      <td>NaN</td>\n",
       "      <td>NaN</td>\n",
       "      <td>NaN</td>\n",
       "      <td>NaN</td>\n",
       "      <td>NaN</td>\n",
       "      <td>104999.000000</td>\n",
       "      <td>NaN</td>\n",
       "      <td>4.900000</td>\n",
       "      <td>NaN</td>\n",
       "      <td>NaN</td>\n",
       "    </tr>\n",
       "  </tbody>\n",
       "</table>\n",
       "</div>"
      ],
      "text/plain": [
       "                 battery                               camera  \\\n",
       "count                984                                  984   \n",
       "unique               177                                  185   \n",
       "top     4000 mAh Battery  13MP Rear Camera | 5MP Front Camera   \n",
       "freq                 113                                   53   \n",
       "mean                 NaN                                  NaN   \n",
       "std                  NaN                                  NaN   \n",
       "min                  NaN                                  NaN   \n",
       "25%                  NaN                                  NaN   \n",
       "50%                  NaN                                  NaN   \n",
       "75%                  NaN                                  NaN   \n",
       "max                  NaN                                  NaN   \n",
       "\n",
       "                                    display  \\\n",
       "count                                   984   \n",
       "unique                                  125   \n",
       "top     16.0 cm (6.3 inch) Full HD+ Display   \n",
       "freq                                     56   \n",
       "mean                                    NaN   \n",
       "std                                     NaN   \n",
       "min                                     NaN   \n",
       "25%                                     NaN   \n",
       "50%                                     NaN   \n",
       "75%                                     NaN   \n",
       "max                                     NaN   \n",
       "\n",
       "                                               memory  \\\n",
       "count                                             984   \n",
       "unique                                             89   \n",
       "top     4 GB RAM | 64 GB ROM | Expandable Upto 256 GB   \n",
       "freq                                               88   \n",
       "mean                                              NaN   \n",
       "std                                               NaN   \n",
       "min                                               NaN   \n",
       "25%                                               NaN   \n",
       "50%                                               NaN   \n",
       "75%                                               NaN   \n",
       "max                                               NaN   \n",
       "\n",
       "                                   name          price  \\\n",
       "count                               984     984.000000   \n",
       "unique                              878            NaN   \n",
       "top     Realme C2 (Diamond Blue, 32 GB)            NaN   \n",
       "freq                                  4            NaN   \n",
       "mean                                NaN   15429.848577   \n",
       "std                                 NaN   12891.355967   \n",
       "min                                 NaN     887.000000   \n",
       "25%                                 NaN    7499.000000   \n",
       "50%                                 NaN   11649.000000   \n",
       "75%                                 NaN   17999.250000   \n",
       "max                                 NaN  104999.000000   \n",
       "\n",
       "                                 processor      rating    reviews  \\\n",
       "count                                  983  971.000000        971   \n",
       "unique                                 287         NaN        386   \n",
       "top     Qualcomm Snapdragon 730G Processor         NaN  3 Reviews   \n",
       "freq                                    21         NaN         10   \n",
       "mean                                   NaN    4.241195        NaN   \n",
       "std                                    NaN    0.300296        NaN   \n",
       "min                                    NaN    2.700000        NaN   \n",
       "25%                                    NaN    4.100000        NaN   \n",
       "50%                                    NaN    4.300000        NaN   \n",
       "75%                                    NaN    4.400000        NaN   \n",
       "max                                    NaN    4.900000        NaN   \n",
       "\n",
       "                                                 warranty  \n",
       "count                                                 836  \n",
       "unique                                                 92  \n",
       "top     Brand Warranty of 1 Year Available for Mobile ...  \n",
       "freq                                                  323  \n",
       "mean                                                  NaN  \n",
       "std                                                   NaN  \n",
       "min                                                   NaN  \n",
       "25%                                                   NaN  \n",
       "50%                                                   NaN  \n",
       "75%                                                   NaN  \n",
       "max                                                   NaN  "
      ]
     },
     "execution_count": 3,
     "metadata": {},
     "output_type": "execute_result"
    }
   ],
   "source": [
    "# Informasi umum\n",
    "print(\"\\nInformasi DataFrame:\")\n",
    "df.info()\n",
    "\n",
    "# Statistik deskriptif\n",
    "print(\"\\nStatistik Deskriptif:\")\n",
    "df.describe(include='all')"
   ]
  },
  {
   "cell_type": "markdown",
   "id": "e329299b",
   "metadata": {},
   "source": [
    "**3. Cek Nilai Duplikat & Nilai Unik**"
   ]
  },
  {
   "cell_type": "code",
   "execution_count": 4,
   "id": "ce2cae81",
   "metadata": {},
   "outputs": [
    {
     "name": "stdout",
     "output_type": "stream",
     "text": [
      "Jumlah duplikat: 24\n",
      "\n",
      "\n",
      "battery        : 177 nilai unik\n",
      "camera         : 185 nilai unik\n",
      "display        : 125 nilai unik\n",
      "memory         : 89 nilai unik\n",
      "name           : 878 nilai unik\n",
      "price          : 355 nilai unik\n",
      "processor      : 287 nilai unik\n",
      "rating         : 23 nilai unik\n",
      "reviews        : 386 nilai unik\n",
      "warranty       : 92 nilai unik\n"
     ]
    }
   ],
   "source": [
    "# Cek duplikat\n",
    "print(\"Jumlah duplikat:\", df.duplicated().sum())\n",
    "print('\\n')\n",
    "\n",
    "# Cek jumlah nilai unik per kolom\n",
    "for col in df.columns:\n",
    "    print(f\"{col:15}: {df[col].nunique()} nilai unik\")"
   ]
  },
  {
   "cell_type": "markdown",
   "id": "2928069b",
   "metadata": {},
   "source": [
    "**4. Visualisasi Jumlah Unik**"
   ]
  },
  {
   "cell_type": "code",
   "execution_count": 5,
   "id": "4210d0e1",
   "metadata": {},
   "outputs": [
    {
     "data": {
      "image/png": "[encoded data removed]",
      "text/plain": [
       "<Figure size 1000x500 with 1 Axes>"
      ]
     },
     "metadata": {},
     "output_type": "display_data"
    }
   ],
   "source": [
    "# Hitung nilai unik dan visualisasi\n",
    "unique_counts = df.nunique().sort_values(ascending=False)\n",
    "\n",
    "# Plot\n",
    "plt.figure(figsize=(10, 5))\n",
    "sns.barplot(x=unique_counts.values, y=unique_counts.index)\n",
    "for i, v in enumerate(unique_counts.values):\n",
    "    plt.text(v, i, str(v), va='center')\n",
    "plt.title('Jumlah Nilai Unik per Kolom')\n",
    "plt.xlabel('Jumlah Nilai Unik')\n",
    "plt.ylabel('Kolom')\n",
    "plt.tight_layout()\n",
    "plt.show()\n",
    "\n"
   ]
  },
  {
   "cell_type": "markdown",
   "id": "5a99ff1f",
   "metadata": {},
   "source": [
    "**5. Menemukan Null Values (Missing)**"
   ]
  },
  {
   "cell_type": "code",
   "execution_count": 6,
   "id": "b62d164e",
   "metadata": {},
   "outputs": [
    {
     "name": "stdout",
     "output_type": "stream",
     "text": [
      "\n",
      "Jumlah Nilai Null per Kolom:\n",
      "battery        0\n",
      "camera         0\n",
      "display        0\n",
      "memory         0\n",
      "name           0\n",
      "price          0\n",
      "processor      1\n",
      "rating        13\n",
      "reviews       13\n",
      "warranty     148\n",
      "dtype: int64\n"
     ]
    }
   ],
   "source": [
    "# Cek nilai null\n",
    "print(\"\\nJumlah Nilai Null per Kolom:\")\n",
    "print(df.isnull().sum())"
   ]
  },
  {
   "cell_type": "markdown",
   "id": "f8fddce7",
   "metadata": {},
   "source": [
    "**6. Replace Semua Null Values**"
   ]
  },
  {
   "cell_type": "code",
   "execution_count": 7,
   "id": "f96188f4",
   "metadata": {},
   "outputs": [
    {
     "data": {
      "text/plain": [
       "battery      0\n",
       "camera       0\n",
       "display      0\n",
       "memory       0\n",
       "name         0\n",
       "price        0\n",
       "processor    0\n",
       "rating       0\n",
       "reviews      0\n",
       "warranty     0\n",
       "dtype: int64"
      ]
     },
     "execution_count": 7,
     "metadata": {},
     "output_type": "execute_result"
    }
   ],
   "source": [
    "# Mengisi nilai null sesuai tipe datanya\n",
    "for col in df.columns:\n",
    "    if df[col].dtype == 'object':\n",
    "        df[col] = df[col].fillna('Unknown')\n",
    "    else:\n",
    "        df[col] = df[col].fillna(df[col].median())\n",
    "\n",
    "df.isnull().sum()"
   ]
  },
  {
   "cell_type": "markdown",
   "id": "cd2b79f1",
   "metadata": {},
   "source": [
    "**7. Tipe data dari Dataset**"
   ]
  },
  {
   "cell_type": "code",
   "execution_count": 8,
   "id": "b0d760f2",
   "metadata": {},
   "outputs": [
    {
     "name": "stdout",
     "output_type": "stream",
     "text": [
      "battery       object\n",
      "camera        object\n",
      "display       object\n",
      "memory        object\n",
      "name          object\n",
      "price          int64\n",
      "processor     object\n",
      "rating       float64\n",
      "reviews       object\n",
      "warranty      object\n",
      "dtype: object\n"
     ]
    }
   ],
   "source": [
    "# Menampilkan tipe data setiap kolom\n",
    "print(df.dtypes)"
   ]
  },
  {
   "cell_type": "markdown",
   "id": "06d46f8e",
   "metadata": {},
   "source": [
    "**8. Filter Data**"
   ]
  },
  {
   "cell_type": "code",
   "execution_count": 9,
   "id": "8078c339",
   "metadata": {},
   "outputs": [
    {
     "data": {
      "text/html": [
       "<div>\n",
       "<style scoped>\n",
       "    .dataframe tbody tr th:only-of-type {\n",
       "        vertical-align: middle;\n",
       "    }\n",
       "\n",
       "    .dataframe tbody tr th {\n",
       "        vertical-align: top;\n",
       "    }\n",
       "\n",
       "    .dataframe thead th {\n",
       "        text-align: right;\n",
       "    }\n",
       "</style>\n",
       "<table border=\"1\" class=\"dataframe\">\n",
       "  <thead>\n",
       "    <tr style=\"text-align: right;\">\n",
       "      <th></th>\n",
       "      <th>name</th>\n",
       "      <th>price</th>\n",
       "      <th>rating</th>\n",
       "    </tr>\n",
       "  </thead>\n",
       "  <tbody>\n",
       "    <tr>\n",
       "      <th>122</th>\n",
       "      <td>OPPO Reno4 Pro (Silky White, 128 GB)</td>\n",
       "      <td>34990</td>\n",
       "      <td>4.7</td>\n",
       "    </tr>\n",
       "    <tr>\n",
       "      <th>160</th>\n",
       "      <td>Realme X2 Pro (Neptune Blue, 256 GB)</td>\n",
       "      <td>35999</td>\n",
       "      <td>4.6</td>\n",
       "    </tr>\n",
       "    <tr>\n",
       "      <th>207</th>\n",
       "      <td>Redmi Note 9 Pro (Aurora Blue, 128 GB)</td>\n",
       "      <td>14999</td>\n",
       "      <td>4.8</td>\n",
       "    </tr>\n",
       "    <tr>\n",
       "      <th>208</th>\n",
       "      <td>Redmi Note 9 Pro (Interstellar Black, 128 GB)</td>\n",
       "      <td>14999</td>\n",
       "      <td>4.8</td>\n",
       "    </tr>\n",
       "    <tr>\n",
       "      <th>236</th>\n",
       "      <td>OnePlus 7T (Frosted Silver, 128 GB)</td>\n",
       "      <td>34834</td>\n",
       "      <td>4.6</td>\n",
       "    </tr>\n",
       "    <tr>\n",
       "      <th>237</th>\n",
       "      <td>OnePlus 7T (Frosted Silver, 256 GB)</td>\n",
       "      <td>37100</td>\n",
       "      <td>4.6</td>\n",
       "    </tr>\n",
       "    <tr>\n",
       "      <th>238</th>\n",
       "      <td>Realme X2 Pro (Concrete, 256 GB)</td>\n",
       "      <td>36999</td>\n",
       "      <td>4.6</td>\n",
       "    </tr>\n",
       "    <tr>\n",
       "      <th>253</th>\n",
       "      <td>OPPO Reno4 Pro (Starry Night, 128 GB)</td>\n",
       "      <td>34990</td>\n",
       "      <td>4.7</td>\n",
       "    </tr>\n",
       "    <tr>\n",
       "      <th>260</th>\n",
       "      <td>Realme X2 Pro (Red Brick, 256 GB)</td>\n",
       "      <td>36999</td>\n",
       "      <td>4.6</td>\n",
       "    </tr>\n",
       "    <tr>\n",
       "      <th>261</th>\n",
       "      <td>Realme X2 Pro (Lunar White, 256 GB)</td>\n",
       "      <td>35999</td>\n",
       "      <td>4.6</td>\n",
       "    </tr>\n",
       "  </tbody>\n",
       "</table>\n",
       "</div>"
      ],
      "text/plain": [
       "                                              name  price  rating\n",
       "122           OPPO Reno4 Pro (Silky White, 128 GB)  34990     4.7\n",
       "160           Realme X2 Pro (Neptune Blue, 256 GB)  35999     4.6\n",
       "207         Redmi Note 9 Pro (Aurora Blue, 128 GB)  14999     4.8\n",
       "208  Redmi Note 9 Pro (Interstellar Black, 128 GB)  14999     4.8\n",
       "236            OnePlus 7T (Frosted Silver, 128 GB)  34834     4.6\n",
       "237            OnePlus 7T (Frosted Silver, 256 GB)  37100     4.6\n",
       "238               Realme X2 Pro (Concrete, 256 GB)  36999     4.6\n",
       "253          OPPO Reno4 Pro (Starry Night, 128 GB)  34990     4.7\n",
       "260              Realme X2 Pro (Red Brick, 256 GB)  36999     4.6\n",
       "261            Realme X2 Pro (Lunar White, 256 GB)  35999     4.6"
      ]
     },
     "execution_count": 9,
     "metadata": {},
     "output_type": "execute_result"
    }
   ],
   "source": [
    "filtered_df = df[df['rating'] > 4.5]\n",
    "filtered_df[['name', 'price', 'rating']].head(10)"
   ]
  },
  {
   "cell_type": "markdown",
   "id": "e5855803",
   "metadata": {},
   "source": [
    "**9. Membuat Box Plot**"
   ]
  },
  {
   "cell_type": "code",
   "execution_count": 10,
   "id": "9add4903",
   "metadata": {},
   "outputs": [],
   "source": [
    "# Konversi kolom numerik\n",
    "df['price'] = pd.to_numeric(df['price'], errors='coerce')\n",
    "df['rating'] = pd.to_numeric(df['rating'], errors='coerce')\n",
    "\n",
    "# Konversi kolom reviews ke numerik\n",
    "df['reviews'] = (\n",
    "    df['reviews'].astype(str)\n",
    "    .str.replace('[^0-9]', '', regex=True)\n",
    "    .replace('', np.nan)\n",
    "    .astype(float)\n",
    ")\n",
    "\n",
    "# Ekstrak ukuran layar dan kapasitas baterai\n",
    "df['display_inches'] = df['display'].astype(str).str.extract(r'(\\d+\\.\\d+)').astype(float)\n",
    "df['battery_mAh'] = df['battery'].astype(str).str.extract(r'(\\d+)').astype(float)\n",
    "\n",
    "num_cols = ['price', 'rating', 'reviews', 'display_inches', 'battery_mAh']"
   ]
  },
  {
   "cell_type": "code",
   "execution_count": 11,
   "id": "035d0f7c",
   "metadata": {},
   "outputs": [
    {
     "data": {
      "image/png": "[encoded data removed]",
      "text/plain": [
       "<Figure size 800x500 with 1 Axes>"
      ]
     },
     "metadata": {},
     "output_type": "display_data"
    }
   ],
   "source": [
    "# Visualisasi distribusi harga\n",
    "plt.figure(figsize=(8, 5))\n",
    "sns.boxplot(x=df['price'])\n",
    "plt.title('Distribusi Harga Smartphone')\n",
    "plt.xlabel('Harga (Rupiah)')\n",
    "plt.tight_layout()\n",
    "plt.show()"
   ]
  },
  {
   "cell_type": "code",
   "execution_count": 12,
   "id": "c3c2e5b6",
   "metadata": {},
   "outputs": [
    {
     "data": {
      "image/png": "[encoded data removed]",
      "text/plain": [
       "<Figure size 1000x500 with 1 Axes>"
      ]
     },
     "metadata": {},
     "output_type": "display_data"
    }
   ],
   "source": [
    "# Visualisasi distribusi kapasitas baterai\n",
    "plt.figure(figsize=(10, 5))\n",
    "sns.boxplot(x=df['battery_mAh'])\n",
    "plt.title(\"Distribusi Kapasitas Baterai\")\n",
    "plt.show()"
   ]
  },
  {
   "cell_type": "markdown",
   "id": "701b1607",
   "metadata": {},
   "source": [
    "**10. Korelasi**"
   ]
  },
  {
   "cell_type": "code",
   "execution_count": 13,
   "id": "eacb81f7",
   "metadata": {},
   "outputs": [
    {
     "data": {
      "image/png": "[encoded data removed]",
      "text/plain": [
       "<Figure size 600x400 with 2 Axes>"
      ]
     },
     "metadata": {},
     "output_type": "display_data"
    }
   ],
   "source": [
    "# Korelasi antar variabel numerik\n",
    "corr = df[num_cols].corr()\n",
    "plt.figure(figsize=(6, 4))\n",
    "sns.heatmap(corr, annot=True, cmap='coolwarm', fmt=\".2f\")\n",
    "plt.title('Korelasi Antar Variabel Numerik')\n",
    "plt.show()"
   ]
  },
  {
   "cell_type": "code",
   "execution_count": 14,
   "id": "0c4feb30",
   "metadata": {},
   "outputs": [
    {
     "data": {
      "image/png": "[encoded data removed]",
      "text/plain": [
       "<Figure size 800x500 with 2 Axes>"
      ]
     },
     "metadata": {},
     "output_type": "display_data"
    }
   ],
   "source": [
    "# Plot heatmap korelasi antara price dengan battery_mAh\n",
    "corr_matrix = df[['price', 'battery_mAh']].corr()\n",
    "plt.figure(figsize=(8,5))\n",
    "sns.heatmap(corr_matrix, annot=True, cmap='coolwarm', fmt=\".2f\")\n",
    "plt.title('Korelasi Harga dan Kapasitas Baterai')\n",
    "plt.show()"
   ]
  }
 ],
 "metadata": {
  "kernelspec": {
   "display_name": "base",
   "language": "python",
   "name": "python3"
  },
  "language_info": {
   "codemirror_mode": {
    "name": "ipython",
    "version": 3
   },
   "file_extension": ".py",
   "mimetype": "text/x-python",
   "name": "python",
   "nbconvert_exporter": "python",
   "pygments_lexer": "ipython3",
   "version": "3.13.5"
  }
 },
 "nbformat": 4,
 "nbformat_minor": 5
}
