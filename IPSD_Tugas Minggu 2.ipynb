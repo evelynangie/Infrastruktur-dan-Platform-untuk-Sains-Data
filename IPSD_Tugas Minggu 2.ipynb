{
 "cells": [
  {
   "cell_type": "markdown",
   "id": "d8a7a08c",
   "metadata": {},
   "source": [
    "### **Anggota Kelompok :**\n",
    "1. Muhammad Iqbal (103102400020)\n",
    "2. Zahira Kayla Wardhani (103102400022)\n",
    "3. Ivana Gabby Lauretta (103102400037)\n",
    "4. Evelyna Angie (103102400040)"
   ]
  },
  {
   "cell_type": "markdown",
   "id": "f8115bd2",
   "metadata": {},
   "source": [
    "### **1. Karakteristik Data**"
   ]
  },
  {
   "cell_type": "code",
   "execution_count": 1,
   "id": "55db7ac5",
   "metadata": {},
   "outputs": [
    {
     "name": "stdout",
     "output_type": "stream",
     "text": [
      "Karakteristik data adalah sebagai berikut:\n",
      "1. Tipe data dari data_int: <class 'int'>\n",
      "2. Tipe data dari data_float: <class 'float'>\n",
      "3. Tipe data dari data_str: <class 'str'>\n",
      "4. Tipe data dari data_bool: <class 'bool'>\n"
     ]
    }
   ],
   "source": [
    "data_int = 10       # Karakter data dari integer yg isinya bilangan bulat\n",
    "data_float = 3.14   # Karakter data dari float yg isinya bilangan desimal\n",
    "data_str = \"Python\" # Karakter data dari string yg isinya teks/karakter\n",
    "data_bool = True    # Karakter data dari boolean yg isinya logika (benar/salah)\n",
    "\n",
    "print(\"Karakteristik data adalah sebagai berikut:\")\n",
    "print(\"1. Tipe data dari data_int:\", type(data_int))\n",
    "print(\"2. Tipe data dari data_float:\", type(data_float))\n",
    "print(\"3. Tipe data dari data_str:\", type(data_str))\n",
    "print(\"4. Tipe data dari data_bool:\", type(data_bool))"
   ]
  },
  {
   "cell_type": "markdown",
   "id": "c02ac0ee",
   "metadata": {},
   "source": [
    "### **2. Tipe data**"
   ]
  },
  {
   "cell_type": "code",
   "execution_count": 2,
   "id": "9c59e751",
   "metadata": {},
   "outputs": [
    {
     "name": "stdout",
     "output_type": "stream",
     "text": [
      "Array Integer: [1, 2, 3, 4, 5]\n",
      "Array Float: [1.2, 3.4, 5.6]\n"
     ]
    }
   ],
   "source": [
    "array_int = [1, 2, 3, 4, 5]   # Elemennya bertipe integer (bilangan bulat)\n",
    "array_float = [1.2, 3.4, 5.6] # Elemennya bertipe float (bilangan desimal)\n",
    "\n",
    "print(\"Array Integer:\", array_int)\n",
    "print(\"Array Float:\", array_float)"
   ]
  },
  {
   "cell_type": "markdown",
   "id": "6b7dd5db",
   "metadata": {},
   "source": [
    "### **3. Array dengan berbagai teknik**"
   ]
  },
  {
   "cell_type": "code",
   "execution_count": 3,
   "id": "05e6dec3",
   "metadata": {},
   "outputs": [
    {
     "name": "stdout",
     "output_type": "stream",
     "text": [
      "Array dari list biasa: [1, 2, 3, 4, 5]\n",
      "Array dengan semua elemen nol: [0, 0, 0, 0, 0]\n",
      "Array dengan urutan angka 1 sampai 5: [1, 2, 3, 4, 5]\n",
      "Array dengan nilai acak sederhana: [3, 1, 4, 2, 5]\n"
     ]
    }
   ],
   "source": [
    "# Array dari list biasa\n",
    "angka = [1, 2, 3, 4, 5] # Membuat array (list) dengan cara langsung menuliskan elemen-elemen di dalam tanda kurung siku\n",
    "print(\"Array dari list biasa:\", angka)\n",
    "\n",
    "# Array dengan nilai yang sama\n",
    "nol = [0, 0, 0, 0, 0] # Membuat array yang semua elemennya bernilai sama yaitu 0\n",
    "print(\"Array dengan semua elemen nol:\", nol)\n",
    "\n",
    "# Array urutan angka dengan perulangan\n",
    "urutan = [] # Membuat array kosong dulu, lalu menggunakan perulangan for untuk mengisi angka dari 1 sampai 5 ke dalam array.\n",
    "for i in range(1, 6):\n",
    "    urutan.append(i)\n",
    "print(\"Array dengan urutan angka 1 sampai 5:\", urutan)\n",
    "\n",
    "# Array dengan nilai acak sederhana\n",
    "acak = [3, 1, 4, 2, 5] # Membuat array dengan urutan elemen yang tidak beraturan/acak\n",
    "print(\"Array dengan nilai acak sederhana:\", acak)"
   ]
  },
  {
   "cell_type": "markdown",
   "id": "256602dc",
   "metadata": {},
   "source": [
    "### **4. Membuat matriks (list di dalam list)**"
   ]
  },
  {
   "cell_type": "code",
   "execution_count": 4,
   "id": "061098d3",
   "metadata": {},
   "outputs": [
    {
     "name": "stdout",
     "output_type": "stream",
     "text": [
      "Matriks 3x3:\n",
      "[1, 2, 3]\n",
      "[4, 5, 6]\n",
      "[7, 8, 9]\n"
     ]
    }
   ],
   "source": [
    "matrix = [\n",
    "    [1, 2, 3], # Baris pertama\n",
    "    [4, 5, 6], # Baris kedua\n",
    "    [7, 8, 9]  # Baris ketiga\n",
    "]\n",
    "\n",
    "print(\"Matriks 3x3:\")\n",
    "for row in matrix: # Mengambil setiap baris di dalam matriks\n",
    "    print(row) # Akan menampilkan list baris tersebut"
   ]
  },
  {
   "cell_type": "markdown",
   "id": "c0f73a2a",
   "metadata": {},
   "source": [
    "***Memanipulasi Matriks dan Operasi-Operasi Matriks***"
   ]
  },
  {
   "cell_type": "markdown",
   "id": "2a7da6b6",
   "metadata": {},
   "source": [
    "Matriks adalah susunan angka atau ekspresi dalam baris dan kolom. Mereka adalah alat fundamental dalam berbagai bidang seperti matematika, fisika, dan ilmu komputer. Tiga operasi matriks dasar adalah penjumlahan, pengurangan, dan perkalian, masing-masing dengan aturan dan sifatnya sendiri."
   ]
  },
  {
   "cell_type": "markdown",
   "id": "9f300ae5",
   "metadata": {},
   "source": [
    "**1. Penjumlahan Matriks**\n",
    "\n",
    "Penjumlahan matriks dilakukan dengan menambahkan elemen-elemen yang berada di posisi yang sama. Operasi ini hanya bisa dilakukan pada matriks yang memiliki dimensi yang sama (jumlah baris dan kolom yang sama).\n",
    "\n",
    "*Sifat:*\n",
    "- Komunitatif: A + B = B + A\n",
    "- Asosiatif: (A + B) + C = A + (B + C)"
   ]
  },
  {
   "cell_type": "markdown",
   "id": "5fd5b993",
   "metadata": {},
   "source": [
    "**2. Pengurangan Matriks**\n",
    "\n",
    "Sama seperti penjumlahan, pengurangan matriks juga hanya bisa dilakukan pada matriks yang berdimensi sama. Operasi ini dilakukan dengan mengurangkan elemen-elemen yang bersesuaian.\n",
    "\n",
    "*Sifat:*\n",
    "- Tidak Komunitatif: A - B != B - A\n",
    "- Asosiatif: (A - B) - C = A - (B - C)"
   ]
  },
  {
   "cell_type": "markdown",
   "id": "da423cea",
   "metadata": {},
   "source": [
    "**3. Perkalian Matriks**\n",
    "\n",
    "Perkalian matriks lebih kompleks. Syaratnya adalah jumlah kolom matriks pertama harus sama dengan jumlah baris matriks kedua. Elemen pada matriks hasil adalah jumlah dari perkalian elemen-elemen baris matriks pertama dengan elemen-elemen kolom matriks kedua.\n",
    "\n",
    "*Sifat:*\n",
    "- Tidak Komunitatif: AB != BA\n",
    "- Asosiatif: (AB)C = A(BC)\n",
    "- Distributif: A(B + C) = AB + AC"
   ]
  },
  {
   "cell_type": "markdown",
   "id": "0ae37af3",
   "metadata": {},
   "source": [
    "**CONTOH**"
   ]
  },
  {
   "cell_type": "code",
   "execution_count": 5,
   "id": "1b651521",
   "metadata": {},
   "outputs": [
    {
     "name": "stdout",
     "output_type": "stream",
     "text": [
      "Hasil Penjumlahan A + B:\n",
      "[[ 6  8]\n",
      " [10 12]]\n",
      "\n",
      "---\n",
      "Hasil Pengurangan A - B:\n",
      "[[-4 -4]\n",
      " [-4 -4]]\n",
      "\n",
      "---\n",
      "Hasil Perkalian A @ B:\n",
      "[[19 22]\n",
      " [43 50]]\n",
      "\n",
      "---\n",
      "Hasil Perkalian Matriks F (2x3) dan G (3x2):\n",
      "[[ 58  64]\n",
      " [139 154]]\n"
     ]
    }
   ],
   "source": [
    "# Import library NumPy\n",
    "import numpy as np\n",
    "\n",
    "# Buat matriks A dan B\n",
    "A = np.array([[1, 2], [3, 4]])\n",
    "B = np.array([[5, 6], [7, 8]])\n",
    "\n",
    "# Penjumlahan Matriks\n",
    "C = A + B\n",
    "print(\"Hasil Penjumlahan A + B:\")\n",
    "print(C)\n",
    "\n",
    "print(\"\\n---\")\n",
    "\n",
    "# Pengurangan Matriks\n",
    "D = A - B\n",
    "print(\"Hasil Pengurangan A - B:\")\n",
    "print(D)\n",
    "\n",
    "print(\"\\n---\")\n",
    "\n",
    "# Perkalian Matriks\n",
    "# Catatan: Gunakan operator @ atau fungsi np.dot() untuk perkalian matriks\n",
    "E = A @ B\n",
    "print(\"Hasil Perkalian A @ B:\")\n",
    "print(E)\n",
    "\n",
    "print(\"\\n---\")\n",
    "\n",
    "# Contoh perkalian matriks dengan dimensi berbeda\n",
    "F = np.array([[1, 2, 3], [4, 5, 6]]) # Matriks 2x3\n",
    "G = np.array([[7, 8], [9, 10], [11, 12]]) # Matriks 3x2\n",
    "\n",
    "H = F @ G # Hasilnya akan menjadi matriks 2x2\n",
    "print(\"Hasil Perkalian Matriks F (2x3) dan G (3x2):\")\n",
    "print(H)"
   ]
  },
  {
   "cell_type": "markdown",
   "id": "5d858026",
   "metadata": {},
   "source": [
    "***Array Multidimensi***"
   ]
  },
  {
   "cell_type": "markdown",
   "id": "eddfd833",
   "metadata": {},
   "source": [
    "NumPy `(Numerical Python)`, sebuah library fundamental di Python yang sangat penting untuk komputasi numerik dan analisis data.\n",
    "\n",
    "Inti dari NumPy adalah objek `ndarray` (N-dimensional array), sebuah struktur data yang lebih efisien dan cepat daripada `list` bawaan Python, terutama untuk operasi matematika dalam jumlah besar."
   ]
  },
  {
   "cell_type": "markdown",
   "id": "b2417bc2",
   "metadata": {},
   "source": [
    "Untuk membuat array multidimensi, sintaks yang digunakan mirip dengan sintaks untuk membuat array satu dimensi, hanya saja perlu menuliskan elemen-elemen sesuai dimensi array. Berikut merupakan contoh:"
   ]
  },
  {
   "cell_type": "code",
   "execution_count": 6,
   "id": "713680c2",
   "metadata": {},
   "outputs": [
    {
     "name": "stdout",
     "output_type": "stream",
     "text": [
      "Numpy multi dimensional array in phyton\n",
      " [[ 1  2  3]\n",
      " [ 5  6  7]\n",
      " [ 9 10 11]]\n"
     ]
    }
   ],
   "source": [
    "import numpy as np\n",
    "\n",
    "# Creating list\n",
    "\n",
    "list_1 = [1, 2, 3]\n",
    "list_2 = [5, 6, 7]\n",
    "list_3 = [9, 10, 11]\n",
    "\n",
    "# Creating numpy array\n",
    "sample_array = np.array([list_1,\n",
    "                         list_2,\n",
    "                         list_3])\n",
    "\n",
    "print(\"Numpy multi dimensional array in phyton\\n\",\n",
    "      sample_array)"
   ]
  },
  {
   "cell_type": "markdown",
   "id": "47543fc3",
   "metadata": {},
   "source": [
    "***Indeks Elemen pada Array***"
   ]
  },
  {
   "cell_type": "markdown",
   "id": "14e9c9a7",
   "metadata": {},
   "source": [
    "Dalam Python, \"array\" paling sering diwakili oleh list. Untuk menemukan indeks suatu elemen, Anda memiliki beberapa cara utama:"
   ]
  },
  {
   "cell_type": "markdown",
   "id": "dd6c30ca",
   "metadata": {},
   "source": [
    "**1. Menggunakan Metode `.index()`**\n",
    "\n",
    "Ini merupakan cara paling umum dan sederhana. Metode ini mencari kemunculan pertama dari elemen yang dicari dan mengembalikan indeksnya. Namun, jika elemen tidak ditemukan, metode ini akan memicu kesalahan (`ValueError`). Oleh karena itu, sebaiknya gunakan `try-except` untuk menanganin kasus tersebut."
   ]
  },
  {
   "cell_type": "markdown",
   "id": "7a37425a",
   "metadata": {},
   "source": [
    "**2. Menggunakan `for` loop dengan `enumarate()`**\n",
    "\n",
    "Ini adalah metode yang lebih flexible. Fungsi `enumerate()` memungkinkan untuk mengulang (loop) sebuah list sambil melacak baik indeks maupun nilai dari setiap elemen secara bersamaan. Cara ini ideal jika ingin menemukan semua kemunculan dari suatu elemen, bukan hanya yang pertama."
   ]
  },
  {
   "cell_type": "markdown",
   "id": "9c6ace9d",
   "metadata": {},
   "source": [
    "**3. Menggunakan List Comprehension**\n",
    "\n",
    "Ini adalah cara lebih ringkas dan \"Pythonic\" untuk melakukan hal yang sama seperti `for` loop, yaitu menemukan semua indeks dari elemen yang cocok."
   ]
  },
  {
   "cell_type": "markdown",
   "id": "ce80d918",
   "metadata": {},
   "source": [
    "**CONTOH**"
   ]
  },
  {
   "cell_type": "code",
   "execution_count": 9,
   "id": "287f581c",
   "metadata": {},
   "outputs": [
    {
     "name": "stdout",
     "output_type": "stream",
     "text": [
      "Indeks dari 'ceri' adalah: 2\n",
      "Indeks dari 'pisang' yang pertama adalah: 1\n",
      "\n",
      "\n",
      "Angka 20 ditemukan pada indeks: [1, 3, 5]\n",
      "\n",
      "\n",
      "Warna 'hijau' ditemukan pada indeks: [1, 3]\n"
     ]
    }
   ],
   "source": [
    "# Contoh 1: Menggunakan metode .index()\n",
    "# Ini hanya menemukan kemunculan pertama dan dapat menimbulkan error\n",
    "\n",
    "my_list = ['apel', 'pisang', 'ceri', 'pisang']\n",
    "\n",
    "# Mencari indeks 'ceri'\n",
    "try:\n",
    "    index_ceri = my_list.index('ceri')\n",
    "    print(f\"Indeks dari 'ceri' adalah: {index_ceri}\")\n",
    "except ValueError:\n",
    "    print(\"'ceri' tidak ditemukan dalam list.\")\n",
    "\n",
    "# Mencari indeks 'pisang' (hanya akan mengembalikan yang pertama)\n",
    "try:\n",
    "    index_pisang = my_list.index('pisang')\n",
    "    print(f\"Indeks dari 'pisang' yang pertama adalah: {index_pisang}\")\n",
    "except ValueError:\n",
    "    print(\"'pisang' tidak ditemukan dalam list.\")\n",
    "\n",
    "print(\"\\n\")\n",
    "\n",
    "# Contoh 2: Menggunakan for loop dengan enumerate()\n",
    "# Ini menemukan semua kemunculan\n",
    "\n",
    "daftar_angka = [10, 20, 30, 20, 40, 20]\n",
    "target_angka = 20\n",
    "indeks_ditemukan = []\n",
    "\n",
    "for indeks, nilai in enumerate(daftar_angka):\n",
    "    if nilai == target_angka:\n",
    "        indeks_ditemukan.append(indeks)\n",
    "\n",
    "if indeks_ditemukan:\n",
    "    print(f\"Angka {target_angka} ditemukan pada indeks: {indeks_ditemukan}\")\n",
    "else:\n",
    "    print(f\"Angka {target_angka} tidak ditemukan.\")\n",
    "\n",
    "print(\"\\n\")\n",
    "\n",
    "# Contoh 3: Menggunakan list comprehension (cara yang lebih ringkas)\n",
    "# Ini juga menemukan semua kemunculan\n",
    "\n",
    "daftar_warna = ['merah', 'hijau', 'biru', 'hijau', 'kuning']\n",
    "target_warna = 'hijau'\n",
    "\n",
    "indeks_list_comp = [i for i, x in enumerate(daftar_warna) if x == target_warna]\n",
    "\n",
    "if indeks_list_comp:\n",
    "    print(f\"Warna '{target_warna}' ditemukan pada indeks: {indeks_list_comp}\")\n",
    "else:\n",
    "    print(f\"Warna '{target_warna}' tidak ditemukan.\")"
   ]
  },
  {
   "cell_type": "markdown",
   "id": "68b7b411",
   "metadata": {},
   "source": [
    "### Mengimplementasikan Operasi Logika Matematika Menggunakan Boolean\n",
    "Operasi logika matematika menggunakan boolean adalah proses perhitungan logis dengan nilai kebenaran yang hanya punya dua kemungkinan:\n",
    "\n",
    "True (benar/1)\n",
    "False (salah/0)\n",
    "\n",
    "🔑 Jenis Operasi Boolean\n",
    "\n",
    "AND (Konjungsi)\n",
    "\n",
    "- Simbol: and atau ∧\n",
    "- Hasil True hanya jika kedua nilai benar.\n",
    "- Contoh: True ∧ True = True, lainnya False.\n",
    "\n",
    "OR (Disjungsi)\n",
    "\n",
    "- Simbol: or atau ∨\n",
    "- Hasil True jika salah satu bernilai benar.\n",
    "- Contoh: True ∨ False = True.\n",
    "\n",
    "NOT (Negasi)\n",
    "\n",
    "- Simbol: not atau ¬\n",
    "- Membalik nilai.\n",
    "- Contoh: ¬True = False.\n",
    "\n",
    "XOR (Exclusive OR)\n",
    "\n",
    "- Simbol: ^\n",
    "- Hasil True jika hanya satu yang benar, bukan keduanya.\n",
    "- Contoh: True ^ False = True, True ^ True = False.\n"
   ]
  },
  {
   "cell_type": "code",
   "execution_count": 10,
   "id": "2ecd93dd",
   "metadata": {},
   "outputs": [
    {
     "name": "stdout",
     "output_type": "stream",
     "text": [
      "A = True\n",
      "B = False\n",
      "A AND B = False\n",
      "A OR B  = True\n",
      "NOT A   = False\n",
      "A XOR B = True\n"
     ]
    }
   ],
   "source": [
    "# Variabel Boolean\n",
    "A = True\n",
    "B = False\n",
    "\n",
    "print(\"A =\", A)\n",
    "print(\"B =\", B)\n",
    "\n",
    "print(\"A AND B =\", A and B)   # Konjungsi\n",
    "print(\"A OR B  =\", A or B)    # Disjungsi\n",
    "print(\"NOT A   =\", not A)     # Negasi\n",
    "print(\"A XOR B =\", A ^ B)     # Eksklusif OR\n"
   ]
  },
  {
   "cell_type": "markdown",
   "id": "c2578c18",
   "metadata": {},
   "source": [
    "### Melakukan Operasi Aritmatika\n",
    "\n",
    "Operator aritmatika digunakan untuk melakukan operasi matematika pada data. Operator aritmatika yang tersedia di Python meliputi:\n",
    "\n",
    "Bentuk outputnya setelah tanda pagar"
   ]
  },
  {
   "cell_type": "code",
   "execution_count": 11,
   "id": "c96988b2",
   "metadata": {},
   "outputs": [],
   "source": [
    "a = 10\n",
    "b = 20\n",
    "\n",
    "c = a + b  # c = 30 (Penjumlahan)\n",
    "d = a - b  # d = -10 (Pengurangan)\n",
    "e = a * b  # e = 200 (Perkalian)\n",
    "f = a / b  # f = 0.5 (Pembagian)\n",
    "g = a ** b # g = 100000000000 (Perpangkatan)\n",
    "h = a % b  # h = 0 (Sisa bagi)\n",
    "i = a // b # i = 0 (Pembagian bulat)    "
   ]
  },
  {
   "cell_type": "markdown",
   "id": "4db62f39",
   "metadata": {},
   "source": [
    "### Elementwise Function\n",
    "\n",
    "Elementwise function adalah fungsi atau operasi yang diterapkan pada setiap elemen dari suatu data (misalnya list, array, atau matriks) secara individual.\n",
    "Artinya, perhitungan dilakukan satu per satu pada tiap elemen, bukan langsung ke keseluruhan data.\n",
    "\n",
    "Di Python, biasanya menggunakan NumPy karena mendukung operasi elementwise dengan cepat."
   ]
  },
  {
   "cell_type": "code",
   "execution_count": 12,
   "id": "1136a150",
   "metadata": {},
   "outputs": [
    {
     "name": "stdout",
     "output_type": "stream",
     "text": [
      "Array a: [1 2 3 4 5]\n",
      "Array b: [10 20 30 40 50]\n",
      "\n",
      "Penjumlahan (a + b): [11 22 33 44 55]\n",
      "Perkalian (a * b): [ 10  40  90 160 250]\n",
      "Pangkat (a ** 2): [ 1  4  9 16 25]\n",
      "Akar (sqrt(a)): [1.         1.41421356 1.73205081 2.         2.23606798]\n",
      "Sinus (sin(a)): [ 0.84147098  0.90929743  0.14112001 -0.7568025  -0.95892427]\n"
     ]
    }
   ],
   "source": [
    "import numpy as np\n",
    "\n",
    "# Membuat array\n",
    "a = np.array([1, 2, 3, 4, 5])\n",
    "b = np.array([10, 20, 30, 40, 50])\n",
    "\n",
    "print(\"Array a:\", a)\n",
    "print(\"Array b:\", b)\n",
    "\n",
    "# Operasi elementwise\n",
    "print(\"\\nPenjumlahan (a + b):\", a + b)     # Elemen a ditambah elemen b\n",
    "print(\"Perkalian (a * b):\", a * b)        # Elemen a dikali elemen b\n",
    "print(\"Pangkat (a ** 2):\", a ** 2)        # Setiap elemen a dipangkat 2\n",
    "print(\"Akar (sqrt(a)):\", np.sqrt(a))      # Akar kuadrat tiap elemen a\n",
    "print(\"Sinus (sin(a)):\", np.sin(a))       # Sinus tiap elemen a\n"
   ]
  },
  {
   "cell_type": "markdown",
   "id": "cfdffa73",
   "metadata": {},
   "source": [
    "# **Melakukan Agregasi(Penggabungan) Beberapa Array**"
   ]
  },
  {
   "cell_type": "markdown",
   "id": "1d2c290e",
   "metadata": {},
   "source": [
    "Di Python, array berasal dari modul `array` dan hanya bisa menampung data dengan tipe yang sama.  \n",
    "Ada beberapa cara untuk menggabungkan dua array:\n",
    "\n",
    "### **1. Menggunakan `append()`**\n",
    "Menambahkan elemen satu per satu dari array kedua ke array pertama menggunakan perulangan."
   ]
  },
  {
   "cell_type": "code",
   "execution_count": 13,
   "id": "c40e222b",
   "metadata": {},
   "outputs": [
    {
     "name": "stdout",
     "output_type": "stream",
     "text": [
      "[10, 20, 30, 40, 50, 60]\n"
     ]
    }
   ],
   "source": [
    "import array as arr\n",
    "\n",
    "a = arr.array('i', [10, 20, 30])\n",
    "b = arr.array('i', [40, 50, 60])\n",
    "\n",
    "for i in range(len(b)):\n",
    "   a.append(b[i])\n",
    "print(a.tolist())"
   ]
  },
  {
   "cell_type": "markdown",
   "id": "2a798d11",
   "metadata": {},
   "source": [
    "### **2. Menggunakan Operator `+`**\n",
    "Caranya dengan ubah dulu array ke list, gabungkan, lalu ubah lagi ke array."
   ]
  },
  {
   "cell_type": "code",
   "execution_count": 14,
   "id": "13528049",
   "metadata": {},
   "outputs": [
    {
     "name": "stdout",
     "output_type": "stream",
     "text": [
      "[10, 20, 30, 40, 50, 60]\n"
     ]
    }
   ],
   "source": [
    "import array as arr\n",
    "\n",
    "a = arr.array('i', [10, 20, 30])\n",
    "b = arr.array('i', [40, 50, 60])\n",
    "\n",
    "x = a.tolist()\n",
    "y = b.tolist()\n",
    "z = x+y\n",
    "a = arr.array('i', z)\n",
    "\n",
    "print(a.tolist())"
   ]
  },
  {
   "cell_type": "markdown",
   "id": "8f8ebcb9",
   "metadata": {},
   "source": [
    "### **3. Menggunakan `extend()`**\n",
    "Langsung menambahkan semua elemen array lain tanpa perlu loop."
   ]
  },
  {
   "cell_type": "code",
   "execution_count": 15,
   "id": "bc682fad",
   "metadata": {},
   "outputs": [
    {
     "name": "stdout",
     "output_type": "stream",
     "text": [
      "[10, 20, 30, 40, 50, 60]\n"
     ]
    }
   ],
   "source": [
    "import array as arr\n",
    "\n",
    "a = arr.array('i', [10, 20, 30])\n",
    "b = arr.array('i', [40, 50, 60])\n",
    "\n",
    "a.extend(b)\n",
    "print(a.tolist())"
   ]
  },
  {
   "cell_type": "markdown",
   "id": "3fce4077",
   "metadata": {},
   "source": [
    "### **4. Menggunakan NumPy**\n",
    "`np.concatenate()` digunakan untuk menyatukan dua atau lebih array."
   ]
  },
  {
   "cell_type": "code",
   "execution_count": 16,
   "id": "8d50ae30",
   "metadata": {},
   "outputs": [
    {
     "name": "stdout",
     "output_type": "stream",
     "text": [
      "[1 2 3 4 5 6]\n"
     ]
    }
   ],
   "source": [
    "import numpy as np\n",
    "\n",
    "arr1 = np.array([1, 2, 3])\n",
    "arr2 = np.array([4, 5, 6])\n",
    "\n",
    "gabungan = np.concatenate((arr1, arr2))\n",
    "print(gabungan)"
   ]
  },
  {
   "cell_type": "code",
   "execution_count": 17,
   "id": "e57baf1d",
   "metadata": {},
   "outputs": [
    {
     "name": "stdout",
     "output_type": "stream",
     "text": [
      "21\n",
      "3.5\n",
      "1\n",
      "6\n",
      "3.5\n"
     ]
    }
   ],
   "source": [
    "print(np.sum(gabungan))    # jumlah total → 21\n",
    "print(np.mean(gabungan))   # rata-rata → 3.5\n",
    "print(np.min(gabungan))    # nilai terkecil → 1\n",
    "print(np.max(gabungan))    # nilai terbesar → 6\n",
    "print(np.median(gabungan)) # median → 3.5"
   ]
  },
  {
   "cell_type": "markdown",
   "id": "0e36b423",
   "metadata": {},
   "source": [
    "# **Melakukan Operasi dengan Logika Himpunan**"
   ]
  },
  {
   "cell_type": "markdown",
   "id": "2f9803a4",
   "metadata": {},
   "source": [
    "### **1. Logika AND**\n",
    "\n",
    "| Logika AND| Hasil |\n",
    "| ----- | ----- |\n",
    "| `True and True`| True  |\n",
    "| `True and False`| False |\n",
    "| `False and True`| False |\n",
    "| `False and False`| False |"
   ]
  },
  {
   "cell_type": "code",
   "execution_count": 18,
   "id": "e1924f8d",
   "metadata": {},
   "outputs": [
    {
     "name": "stdout",
     "output_type": "stream",
     "text": [
      "True\n",
      "False\n"
     ]
    }
   ],
   "source": [
    "# AND → harus dua-duanya True\n",
    "print(5 > 3 and 10 > 5) # True\n",
    "print(5 > 3 and 2 > 5) # False"
   ]
  },
  {
   "cell_type": "markdown",
   "id": "c39b7a3d",
   "metadata": {},
   "source": [
    "### **2. Logika OR**\n",
    "\n",
    "| Logika OR | Hasil |\n",
    "| ----- | ----- |\n",
    "| `True or True`| True |\n",
    "| `True or False`| True |\n",
    "| `False or True`| True |\n",
    "| `False or False`| False|"
   ]
  },
  {
   "cell_type": "code",
   "execution_count": 19,
   "id": "80290bb7",
   "metadata": {},
   "outputs": [
    {
     "name": "stdout",
     "output_type": "stream",
     "text": [
      "True\n",
      "False\n"
     ]
    }
   ],
   "source": [
    "# OR → cukup salah satu True\n",
    "print(5 > 3 or 2 > 5) # True\n",
    "print(1 > 3 or 2 > 5) # False"
   ]
  },
  {
   "cell_type": "markdown",
   "id": "9e8059f4",
   "metadata": {},
   "source": [
    "### **3. Logika NOT**\n",
    "\n",
    "|Logika NOT| Hasil |\n",
    "| ---- | ----- |\n",
    "| `not True` | False |\n",
    "| `not False`| True |"
   ]
  },
  {
   "cell_type": "code",
   "execution_count": 20,
   "id": "19e2d84e",
   "metadata": {},
   "outputs": [
    {
     "name": "stdout",
     "output_type": "stream",
     "text": [
      "False\n",
      "True\n"
     ]
    }
   ],
   "source": [
    "# NOT → membalik nilai\n",
    "print(not (5 > 3)) # False\n",
    "print(not (2 > 5)) # True"
   ]
  },
  {
   "cell_type": "markdown",
   "id": "4fda2d09",
   "metadata": {},
   "source": [
    "# **Manipulasi Array**"
   ]
  },
  {
   "cell_type": "markdown",
   "id": "97ec3579",
   "metadata": {},
   "source": [
    "Di Python, array dikenal dengan nama **list**. List bisa dianggap sebagai wadah yang menampung banyak data, dan kita bisa dengan mudah mengambil, mengubah, maupun memanipulasi isinya."
   ]
  },
  {
   "cell_type": "markdown",
   "id": "f4880f7a",
   "metadata": {},
   "source": [
    "## **1. Membuat List**\n",
    "Gunakan `array('tipe', [elemen])`.  \n",
    "Contoh `'i'` artinya integer."
   ]
  },
  {
   "cell_type": "code",
   "execution_count": 21,
   "id": "eeaeda37",
   "metadata": {},
   "outputs": [
    {
     "name": "stdout",
     "output_type": "stream",
     "text": [
      "[10, 20, 30, 40]\n"
     ]
    }
   ],
   "source": [
    "import array as arr\n",
    "\n",
    "angka = arr.array('i', [10, 20, 30, 40])\n",
    "print(angka.tolist())"
   ]
  },
  {
   "cell_type": "markdown",
   "id": "8a4d21a5",
   "metadata": {},
   "source": [
    "## **2. Mengakses Elemen**\n",
    "Gunakan indeks (mulai dari 0) untuk mengambil elemen."
   ]
  },
  {
   "cell_type": "code",
   "execution_count": 22,
   "id": "69a226b2",
   "metadata": {},
   "outputs": [
    {
     "name": "stdout",
     "output_type": "stream",
     "text": [
      "10\n",
      "30\n"
     ]
    }
   ],
   "source": [
    "print(angka[0])  # elemen pertama\n",
    "print(angka[2])  # elemen ketiga"
   ]
  },
  {
   "cell_type": "markdown",
   "id": "0add34f3",
   "metadata": {},
   "source": [
    "## **3. Slicing (Mengiris)**\n",
    "Gunakan `[start:end]` untuk mengambil sebagian elemen (end tidak termasuk)."
   ]
  },
  {
   "cell_type": "code",
   "execution_count": 23,
   "id": "a8f0b849",
   "metadata": {},
   "outputs": [
    {
     "name": "stdout",
     "output_type": "stream",
     "text": [
      "[20, 30]\n"
     ]
    }
   ],
   "source": [
    "print(angka[1:3].tolist())  # ambil elemen index 1 dan 2"
   ]
  },
  {
   "cell_type": "markdown",
   "id": "f547c0a5",
   "metadata": {},
   "source": [
    "## **4. Menambah Elemen**\n",
    "- `append()` → menambah di akhir  \n",
    "- `insert()` → menambah di indeks tertentu  \n",
    "- `extend()` → menambah banyak elemen sekaligus"
   ]
  },
  {
   "cell_type": "code",
   "execution_count": 24,
   "id": "736c846a",
   "metadata": {},
   "outputs": [
    {
     "name": "stdout",
     "output_type": "stream",
     "text": [
      "[10, 20, 30, 40, 50]\n",
      "[10, 15, 20, 30, 40, 50]\n",
      "[10, 15, 20, 30, 40, 50, 60, 70]\n"
     ]
    }
   ],
   "source": [
    "angka.append(50)\n",
    "print(angka.tolist())\n",
    "\n",
    "angka.insert(1, 15)\n",
    "print(angka.tolist())\n",
    "\n",
    "angka.extend([60, 70])\n",
    "print(angka.tolist())"
   ]
  },
  {
   "cell_type": "markdown",
   "id": "1a39f705",
   "metadata": {},
   "source": [
    "## **5. Menghapus Elemen**\n",
    "- `del` → hapus berdasarkan indeks  \n",
    "- `pop()` → hapus & kembalikan elemen berdasarkan indeks  \n",
    "- `remove()` → hapus berdasarkan nilai (hanya yang pertama)"
   ]
  },
  {
   "cell_type": "code",
   "execution_count": 25,
   "id": "a5533d2b",
   "metadata": {},
   "outputs": [
    {
     "name": "stdout",
     "output_type": "stream",
     "text": [
      "[15, 20, 30, 40, 50, 60, 70]\n",
      "[15, 20, 30, 50, 60, 70]\n",
      "[15, 30, 50, 60, 70]\n"
     ]
    }
   ],
   "source": [
    "angka.pop(0)     # hapus index 0\n",
    "print(angka.tolist())\n",
    "\n",
    "angka.remove(40) # hapus nilai 40\n",
    "print(angka.tolist())\n",
    "\n",
    "del angka[1]     # hapus index 1\n",
    "print(angka.tolist())"
   ]
  },
  {
   "cell_type": "code",
   "execution_count": null,
   "id": "640baf47",
   "metadata": {},
   "outputs": [],
   "source": []
  }
 ],
 "metadata": {
  "kernelspec": {
   "display_name": "base",
   "language": "python",
   "name": "python3"
  },
  "language_info": {
   "codemirror_mode": {
    "name": "ipython",
    "version": 3
   },
   "file_extension": ".py",
   "mimetype": "text/x-python",
   "name": "python",
   "nbconvert_exporter": "python",
   "pygments_lexer": "ipython3",
   "version": "3.13.5"
  }
 },
 "nbformat": 4,
 "nbformat_minor": 5
}
